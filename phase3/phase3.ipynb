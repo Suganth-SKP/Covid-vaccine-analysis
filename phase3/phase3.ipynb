{
 "cells": [
  {
   "cell_type": "code",
   "execution_count": 5,
   "metadata": {},
   "outputs": [
    {
     "name": "stderr",
     "output_type": "stream",
     "text": [
      "C:\\Users\\PRASADSANKAR\\AppData\\Local\\Temp\\ipykernel_18760\\1304395579.py:18: UserWarning: Parsing dates in %d-%m-%Y format when dayfirst=False (the default) was specified. Pass `dayfirst=True` or specify a format to silence this warning.\n",
      "  data['date'] = pd.to_datetime(data['date'])\n"
     ]
    }
   ],
   "source": [
    "import pandas as pd\n",
    "import numpy as np\n",
    "\n",
    "# Load your dataset into a Pandas DataFrame\n",
    "data = pd.read_csv(\"country_vaccinations.csv\")\n",
    "# Handling Missing Data\n",
    "# Check for missing values in the dataset\n",
    "data.isnull().sum()\n",
    "# Depending on your analysis, you can either drop rows with missing values or fill them with appropriate values (e.g., zeros or the mean of the column).\n",
    "# Drop rows with missing values\n",
    "data.dropna(inplace=True)\n",
    "#  Data Type Conversion\n",
    "# Ensure the data types of columns are appropriate for analysis.\n",
    "data['date'] = pd.to_datetime(data['date'])\n",
    "#  Feature Engineering\n",
    "# Create new columns or features if needed\n",
    "data['Vaccination Rate'] = data['daily_vaccinations'] / data['total_vaccinations_per_hundred']\n",
    "#  Data Scaling and Normalization\n",
    "# Scale and normalize numeric columns if necessary\n",
    "from sklearn.preprocessing import MinMaxScaler\n",
    "scaler = MinMaxScaler()\n",
    "data[['total_vaccinations_per_hundred', 'people_vaccinated_per_hundred','people_fully_vaccinated_per_hundred']] = scaler.fit_transform(data[['total_vaccinations_per_hundred', 'people_vaccinated_per_hundred','people_fully_vaccinated_per_hundred']])\n",
    "#  Encoding Categorical Data\n",
    "# If you have categorical data like 'Country', you can encode it into numerical values.\n",
    "from sklearn.preprocessing import LabelEncoder\n",
    "encoder = LabelEncoder()\n",
    "data['country'] = encoder.fit_transform(data['country'])\n",
    "#  Save Preprocessed Data\n",
    "# Save the preprocessed data to a new CSV file for further analysis\n",
    "data.to_csv(\"preprocessed_data.csv\", index=False)"
   ]
  },
  {
   "cell_type": "code",
   "execution_count": 9,
   "metadata": {},
   "outputs": [],
   "source": [
    "import pandas as pd\n",
    "import numpy as np\n",
    "import matplotlib.pyplot as plt\n",
    "import seaborn as sns\n",
    "df=pd.read_csv('preprocessed_data.csv')"
   ]
  },
  {
   "cell_type": "code",
   "execution_count": 10,
   "metadata": {},
   "outputs": [
    {
     "name": "stdout",
     "output_type": "stream",
     "text": [
      "Missing Values:\n",
      "country                                0\n",
      "iso_code                               0\n",
      "date                                   0\n",
      "total_vaccinations                     0\n",
      "people_vaccinated                      0\n",
      "people_fully_vaccinated                0\n",
      "daily_vaccinations_raw                 0\n",
      "daily_vaccinations                     0\n",
      "total_vaccinations_per_hundred         0\n",
      "people_vaccinated_per_hundred          0\n",
      "people_fully_vaccinated_per_hundred    0\n",
      "daily_vaccinations_per_million         0\n",
      "vaccines                               0\n",
      "source_name                            0\n",
      "source_website                         0\n",
      "Vaccination Rate                       0\n",
      "dtype: int64\n",
      "Duplicate Rows:\n",
      "Empty DataFrame\n",
      "Columns: [country, iso_code, date, total_vaccinations, people_vaccinated, people_fully_vaccinated, daily_vaccinations_raw, daily_vaccinations, total_vaccinations_per_hundred, people_vaccinated_per_hundred, people_fully_vaccinated_per_hundred, daily_vaccinations_per_million, vaccines, source_name, source_website, Vaccination Rate]\n",
      "Index: []\n"
     ]
    }
   ],
   "source": [
    "# Check for missing values\n",
    "missing_values = df.isnull().sum()\n",
    "# Check for duplicates\n",
    "duplicate_rows = df[df.duplicated(keep='first')]\n",
    "print(\"Missing Values:\")\n",
    "print(missing_values)\n",
    "print(\"Duplicate Rows:\")\n",
    "print(duplicate_rows)"
   ]
  }
 ],
 "metadata": {
  "kernelspec": {
   "display_name": "Python 3",
   "language": "python",
   "name": "python3"
  },
  "language_info": {
   "codemirror_mode": {
    "name": "ipython",
    "version": 3
   },
   "file_extension": ".py",
   "mimetype": "text/x-python",
   "name": "python",
   "nbconvert_exporter": "python",
   "pygments_lexer": "ipython3",
   "version": "3.11.4"
  }
 },
 "nbformat": 4,
 "nbformat_minor": 2
}
